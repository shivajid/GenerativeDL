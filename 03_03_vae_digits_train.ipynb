{
 "cells": [
  {
   "cell_type": "markdown",
   "metadata": {},
   "source": [
    "# VAE Training"
   ]
  },
  {
   "cell_type": "markdown",
   "metadata": {},
   "source": [
    "## imports"
   ]
  },
  {
   "cell_type": "code",
   "execution_count": 1,
   "metadata": {},
   "outputs": [
    {
     "name": "stderr",
     "output_type": "stream",
     "text": [
      "Using TensorFlow backend.\n"
     ]
    }
   ],
   "source": [
    "import os\n",
    "\n",
    "from models.VAE import VariationalAutoencoder\n",
    "from utils.loaders import load_mnist"
   ]
  },
  {
   "cell_type": "code",
   "execution_count": 2,
   "metadata": {},
   "outputs": [],
   "source": [
    "# run params\n",
    "SECTION = 'vae'\n",
    "RUN_ID = '0002'\n",
    "DATA_NAME = 'digits'\n",
    "RUN_FOLDER = 'run/{}/'.format(SECTION)\n",
    "RUN_FOLDER += '_'.join([RUN_ID, DATA_NAME])\n",
    "\n",
    "if not os.path.exists(RUN_FOLDER):\n",
    "    os.mkdir(RUN_FOLDER)\n",
    "    os.mkdir(os.path.join(RUN_FOLDER, 'viz'))\n",
    "    os.mkdir(os.path.join(RUN_FOLDER, 'images'))\n",
    "    os.mkdir(os.path.join(RUN_FOLDER, 'weights'))\n",
    "\n",
    "mode =  'build' #'load' #"
   ]
  },
  {
   "cell_type": "markdown",
   "metadata": {},
   "source": [
    "## data"
   ]
  },
  {
   "cell_type": "code",
   "execution_count": 10,
   "metadata": {},
   "outputs": [],
   "source": [
    "(x_train, y_train), (x_test, y_test) = load_mnist()"
   ]
  },
  {
   "cell_type": "markdown",
   "metadata": {},
   "source": [
    "## architecture"
   ]
  },
  {
   "cell_type": "code",
   "execution_count": 3,
   "metadata": {},
   "outputs": [
    {
     "name": "stdout",
     "output_type": "stream",
     "text": [
      "WARNING:tensorflow:From /Users/shivajidutta/anaconda/lib/python2.7/site-packages/tensorflow/python/framework/op_def_library.py:263: colocate_with (from tensorflow.python.framework.ops) is deprecated and will be removed in a future version.\n",
      "Instructions for updating:\n",
      "Colocations handled automatically by placer.\n"
     ]
    }
   ],
   "source": [
    "vae = VariationalAutoencoder(\n",
    "    input_dim = (28,28,1)\n",
    "    , encoder_conv_filters = [32,64,64, 64]\n",
    "    , encoder_conv_kernel_size = [3,3,3,3]\n",
    "    , encoder_conv_strides = [1,2,2,1]\n",
    "    , decoder_conv_t_filters = [64,64,32,1]\n",
    "    , decoder_conv_t_kernel_size = [3,3,3,3]\n",
    "    , decoder_conv_t_strides = [1,2,2,1]\n",
    "    , z_dim = 2\n",
    ")\n",
    "\n",
    "if mode == 'build':\n",
    "    vae.save(RUN_FOLDER)\n",
    "else:\n",
    "    vae.load_weights(os.path.join(RUN_FOLDER, 'weights/weights.h5'))"
   ]
  },
  {
   "cell_type": "code",
   "execution_count": 4,
   "metadata": {},
   "outputs": [
    {
     "name": "stdout",
     "output_type": "stream",
     "text": [
      "__________________________________________________________________________________________________\n",
      "Layer (type)                    Output Shape         Param #     Connected to                     \n",
      "==================================================================================================\n",
      "encoder_input (InputLayer)      (None, 28, 28, 1)    0                                            \n",
      "__________________________________________________________________________________________________\n",
      "encoder_conv_0 (Conv2D)         (None, 28, 28, 32)   320         encoder_input[0][0]              \n",
      "__________________________________________________________________________________________________\n",
      "leaky_re_lu_1 (LeakyReLU)       (None, 28, 28, 32)   0           encoder_conv_0[0][0]             \n",
      "__________________________________________________________________________________________________\n",
      "encoder_conv_1 (Conv2D)         (None, 14, 14, 64)   18496       leaky_re_lu_1[0][0]              \n",
      "__________________________________________________________________________________________________\n",
      "leaky_re_lu_2 (LeakyReLU)       (None, 14, 14, 64)   0           encoder_conv_1[0][0]             \n",
      "__________________________________________________________________________________________________\n",
      "encoder_conv_2 (Conv2D)         (None, 7, 7, 64)     36928       leaky_re_lu_2[0][0]              \n",
      "__________________________________________________________________________________________________\n",
      "leaky_re_lu_3 (LeakyReLU)       (None, 7, 7, 64)     0           encoder_conv_2[0][0]             \n",
      "__________________________________________________________________________________________________\n",
      "encoder_conv_3 (Conv2D)         (None, 7, 7, 64)     36928       leaky_re_lu_3[0][0]              \n",
      "__________________________________________________________________________________________________\n",
      "leaky_re_lu_4 (LeakyReLU)       (None, 7, 7, 64)     0           encoder_conv_3[0][0]             \n",
      "__________________________________________________________________________________________________\n",
      "flatten_1 (Flatten)             (None, 3136)         0           leaky_re_lu_4[0][0]              \n",
      "__________________________________________________________________________________________________\n",
      "mu (Dense)                      (None, 2)            6274        flatten_1[0][0]                  \n",
      "__________________________________________________________________________________________________\n",
      "log_var (Dense)                 (None, 2)            6274        flatten_1[0][0]                  \n",
      "__________________________________________________________________________________________________\n",
      "encoder_output (Lambda)         (None, 2)            0           mu[0][0]                         \n",
      "                                                                 log_var[0][0]                    \n",
      "==================================================================================================\n",
      "Total params: 105,220\n",
      "Trainable params: 105,220\n",
      "Non-trainable params: 0\n",
      "__________________________________________________________________________________________________\n"
     ]
    }
   ],
   "source": [
    "vae.encoder.summary()"
   ]
  },
  {
   "cell_type": "code",
   "execution_count": 5,
   "metadata": {},
   "outputs": [
    {
     "name": "stdout",
     "output_type": "stream",
     "text": [
      "_________________________________________________________________\n",
      "Layer (type)                 Output Shape              Param #   \n",
      "=================================================================\n",
      "decoder_input (InputLayer)   (None, 2)                 0         \n",
      "_________________________________________________________________\n",
      "dense_1 (Dense)              (None, 3136)              9408      \n",
      "_________________________________________________________________\n",
      "reshape_1 (Reshape)          (None, 7, 7, 64)          0         \n",
      "_________________________________________________________________\n",
      "decoder_conv_t_0 (Conv2DTran (None, 7, 7, 64)          36928     \n",
      "_________________________________________________________________\n",
      "leaky_re_lu_5 (LeakyReLU)    (None, 7, 7, 64)          0         \n",
      "_________________________________________________________________\n",
      "decoder_conv_t_1 (Conv2DTran (None, 14, 14, 64)        36928     \n",
      "_________________________________________________________________\n",
      "leaky_re_lu_6 (LeakyReLU)    (None, 14, 14, 64)        0         \n",
      "_________________________________________________________________\n",
      "decoder_conv_t_2 (Conv2DTran (None, 28, 28, 32)        18464     \n",
      "_________________________________________________________________\n",
      "leaky_re_lu_7 (LeakyReLU)    (None, 28, 28, 32)        0         \n",
      "_________________________________________________________________\n",
      "decoder_conv_t_3 (Conv2DTran (None, 28, 28, 1)         289       \n",
      "_________________________________________________________________\n",
      "activation_1 (Activation)    (None, 28, 28, 1)         0         \n",
      "=================================================================\n",
      "Total params: 102,017\n",
      "Trainable params: 102,017\n",
      "Non-trainable params: 0\n",
      "_________________________________________________________________\n"
     ]
    }
   ],
   "source": [
    "vae.decoder.summary()"
   ]
  },
  {
   "cell_type": "markdown",
   "metadata": {},
   "source": [
    "## training"
   ]
  },
  {
   "cell_type": "code",
   "execution_count": null,
   "metadata": {},
   "outputs": [],
   "source": [
    "LEARNING_RATE = 0.0005\n",
    "R_LOSS_FACTOR = 1000"
   ]
  },
  {
   "cell_type": "code",
   "execution_count": 7,
   "metadata": {},
   "outputs": [],
   "source": [
    "vae.compile(LEARNING_RATE, R_LOSS_FACTOR)"
   ]
  },
  {
   "cell_type": "code",
   "execution_count": 8,
   "metadata": {},
   "outputs": [],
   "source": [
    "BATCH_SIZE = 32\n",
    "EPOCHS = 200\n",
    "PRINT_EVERY_N_BATCHES = 100\n",
    "INITIAL_EPOCH = 0"
   ]
  },
  {
   "cell_type": "code",
   "execution_count": 11,
   "metadata": {},
   "outputs": [
    {
     "name": "stdout",
     "output_type": "stream",
     "text": [
      "WARNING:tensorflow:From /Users/shivajidutta/anaconda/lib/python2.7/site-packages/tensorflow/python/ops/math_ops.py:3066: to_int32 (from tensorflow.python.ops.math_ops) is deprecated and will be removed in a future version.\n",
      "Instructions for updating:\n",
      "Use tf.cast instead.\n",
      "Epoch 1/200\n",
      "60000/60000 [==============================] - 95s 2ms/step - loss: 58.4193 - vae_r_loss: 55.1976 - vae_kl_loss: 3.2218\n",
      "\n",
      "Epoch 00001: saving model to run/vae/0002_digits/weights/weights-001-58.42.h5\n",
      "\n",
      "Epoch 00001: saving model to run/vae/0002_digits/weights/weights.h5\n",
      "Epoch 2/200\n",
      "60000/60000 [==============================] - 86s 1ms/step - loss: 51.8978 - vae_r_loss: 48.0256 - vae_kl_loss: 3.8722\n",
      "\n",
      "Epoch 00002: saving model to run/vae/0002_digits/weights/weights-002-51.90.h5\n",
      "\n",
      "Epoch 00002: saving model to run/vae/0002_digits/weights/weights.h5\n",
      "Epoch 3/200\n",
      "60000/60000 [==============================] - 93s 2ms/step - loss: 50.4621 - vae_r_loss: 46.2783 - vae_kl_loss: 4.1839\n",
      "\n",
      "Epoch 00003: saving model to run/vae/0002_digits/weights/weights-003-50.46.h5\n",
      "\n",
      "Epoch 00003: saving model to run/vae/0002_digits/weights/weights.h5\n",
      "Epoch 4/200\n",
      "60000/60000 [==============================] - 3816s 64ms/step - loss: 49.5002 - vae_r_loss: 45.1252 - vae_kl_loss: 4.3750\n",
      "\n",
      "Epoch 00004: saving model to run/vae/0002_digits/weights/weights-004-49.50.h5\n",
      "\n",
      "Epoch 00004: saving model to run/vae/0002_digits/weights/weights.h5\n",
      "Epoch 5/200\n",
      "60000/60000 [==============================] - 120s 2ms/step - loss: 48.8230 - vae_r_loss: 44.2986 - vae_kl_loss: 4.5244\n",
      "\n",
      "Epoch 00005: saving model to run/vae/0002_digits/weights/weights-005-48.82.h5\n",
      "\n",
      "Epoch 00005: saving model to run/vae/0002_digits/weights/weights.h5\n",
      "Epoch 6/200\n",
      "60000/60000 [==============================] - 115s 2ms/step - loss: 48.3822 - vae_r_loss: 43.7699 - vae_kl_loss: 4.6123\n",
      "\n",
      "Epoch 00006: saving model to run/vae/0002_digits/weights/weights-006-48.38.h5\n",
      "\n",
      "Epoch 00006: saving model to run/vae/0002_digits/weights/weights.h5\n",
      "Epoch 7/200\n",
      "60000/60000 [==============================] - 105s 2ms/step - loss: 47.9644 - vae_r_loss: 43.2616 - vae_kl_loss: 4.7029\n",
      "\n",
      "Epoch 00007: saving model to run/vae/0002_digits/weights/weights-007-47.96.h5\n",
      "\n",
      "Epoch 00007: saving model to run/vae/0002_digits/weights/weights.h5\n",
      "Epoch 8/200\n",
      "60000/60000 [==============================] - 104s 2ms/step - loss: 47.6313 - vae_r_loss: 42.8559 - vae_kl_loss: 4.77550s - loss: 47.6348 - vae_r_loss: 42.8593 -\n",
      "\n",
      "Epoch 00008: saving model to run/vae/0002_digits/weights/weights-008-47.63.h5\n",
      "\n",
      "Epoch 00008: saving model to run/vae/0002_digits/weights/weights.h5\n",
      "Epoch 9/200\n",
      "60000/60000 [==============================] - 101s 2ms/step - loss: 47.3428 - vae_r_loss: 42.5187 - vae_kl_loss: 4.8241\n",
      "\n",
      "Epoch 00009: saving model to run/vae/0002_digits/weights/weights-009-47.34.h5\n",
      "\n",
      "Epoch 00009: saving model to run/vae/0002_digits/weights/weights.h5\n",
      "Epoch 10/200\n",
      "60000/60000 [==============================] - 103s 2ms/step - loss: 47.1286 - vae_r_loss: 42.2600 - vae_kl_loss: 4.8687\n",
      "\n",
      "Epoch 00010: saving model to run/vae/0002_digits/weights/weights-010-47.13.h5\n",
      "\n",
      "Epoch 00010: saving model to run/vae/0002_digits/weights/weights.h5\n",
      "Epoch 11/200\n",
      "60000/60000 [==============================] - 104s 2ms/step - loss: 46.8990 - vae_r_loss: 41.9994 - vae_kl_loss: 4.8995\n",
      "\n",
      "Epoch 00011: saving model to run/vae/0002_digits/weights/weights-011-46.90.h5\n",
      "\n",
      "Epoch 00011: saving model to run/vae/0002_digits/weights/weights.h5\n",
      "Epoch 12/200\n",
      "60000/60000 [==============================] - 103s 2ms/step - loss: 46.7222 - vae_r_loss: 41.7807 - vae_kl_loss: 4.9415\n",
      "\n",
      "Epoch 00012: saving model to run/vae/0002_digits/weights/weights-012-46.72.h5\n",
      "\n",
      "Epoch 00012: saving model to run/vae/0002_digits/weights/weights.h5\n",
      "Epoch 13/200\n",
      "60000/60000 [==============================] - 93s 2ms/step - loss: 46.5690 - vae_r_loss: 41.5938 - vae_kl_loss: 4.9751\n",
      "\n",
      "Epoch 00013: saving model to run/vae/0002_digits/weights/weights-013-46.57.h5\n",
      "\n",
      "Epoch 00013: saving model to run/vae/0002_digits/weights/weights.h5\n",
      "Epoch 14/200\n",
      "60000/60000 [==============================] - 90s 2ms/step - loss: 46.4272 - vae_r_loss: 41.4404 - vae_kl_loss: 4.9868\n",
      "\n",
      "Epoch 00014: saving model to run/vae/0002_digits/weights/weights-014-46.43.h5\n",
      "\n",
      "Epoch 00014: saving model to run/vae/0002_digits/weights/weights.h5\n",
      "Epoch 15/200\n",
      "60000/60000 [==============================] - 90s 1ms/step - loss: 46.3131 - vae_r_loss: 41.2959 - vae_kl_loss: 5.0171\n",
      "\n",
      "Epoch 00015: saving model to run/vae/0002_digits/weights/weights-015-46.31.h5\n",
      "\n",
      "Epoch 00015: saving model to run/vae/0002_digits/weights/weights.h5\n",
      "Epoch 16/200\n",
      "60000/60000 [==============================] - 88s 1ms/step - loss: 46.2030 - vae_r_loss: 41.1668 - vae_kl_loss: 5.0361\n",
      "\n",
      "Epoch 00016: saving model to run/vae/0002_digits/weights/weights-016-46.20.h5\n",
      "\n",
      "Epoch 00016: saving model to run/vae/0002_digits/weights/weights.h5\n",
      "Epoch 17/200\n",
      "60000/60000 [==============================] - 88s 1ms/step - loss: 46.0757 - vae_r_loss: 41.0101 - vae_kl_loss: 5.0656\n",
      "\n",
      "Epoch 00017: saving model to run/vae/0002_digits/weights/weights-017-46.08.h5\n",
      "\n",
      "Epoch 00017: saving model to run/vae/0002_digits/weights/weights.h5\n",
      "Epoch 18/200\n",
      "60000/60000 [==============================] - 87s 1ms/step - loss: 45.9708 - vae_r_loss: 40.9066 - vae_kl_loss: 5.0642\n",
      "\n",
      "Epoch 00018: saving model to run/vae/0002_digits/weights/weights-018-45.97.h5\n",
      "\n",
      "Epoch 00018: saving model to run/vae/0002_digits/weights/weights.h5\n",
      "Epoch 19/200\n",
      "60000/60000 [==============================] - 87s 1ms/step - loss: 45.8701 - vae_r_loss: 40.7846 - vae_kl_loss: 5.0855\n",
      "\n",
      "Epoch 00019: saving model to run/vae/0002_digits/weights/weights-019-45.87.h5\n",
      "\n",
      "Epoch 00019: saving model to run/vae/0002_digits/weights/weights.h5\n",
      "Epoch 20/200\n",
      "60000/60000 [==============================] - 87s 1ms/step - loss: 45.7533 - vae_r_loss: 40.6484 - vae_kl_loss: 5.1049\n",
      "\n",
      "Epoch 00020: saving model to run/vae/0002_digits/weights/weights-020-45.75.h5\n",
      "\n",
      "Epoch 00020: saving model to run/vae/0002_digits/weights/weights.h5\n",
      "Epoch 21/200\n",
      "60000/60000 [==============================] - 88s 1ms/step - loss: 45.6843 - vae_r_loss: 40.5750 - vae_kl_loss: 5.1093\n",
      "\n",
      "Epoch 00021: saving model to run/vae/0002_digits/weights/weights-021-45.68.h5\n",
      "\n",
      "Epoch 00021: saving model to run/vae/0002_digits/weights/weights.h5\n",
      "Epoch 22/200\n",
      "60000/60000 [==============================] - 87s 1ms/step - loss: 45.6499 - vae_r_loss: 40.5025 - vae_kl_loss: 5.1473\n",
      "\n",
      "Epoch 00022: saving model to run/vae/0002_digits/weights/weights-022-45.65.h5\n",
      "\n",
      "Epoch 00022: saving model to run/vae/0002_digits/weights/weights.h5\n",
      "Epoch 23/200\n",
      "60000/60000 [==============================] - 87s 1ms/step - loss: 45.5377 - vae_r_loss: 40.3854 - vae_kl_loss: 5.1523\n",
      "\n",
      "Epoch 00023: saving model to run/vae/0002_digits/weights/weights-023-45.54.h5\n",
      "\n",
      "Epoch 00023: saving model to run/vae/0002_digits/weights/weights.h5\n",
      "Epoch 24/200\n",
      "60000/60000 [==============================] - 89s 1ms/step - loss: 45.4527 - vae_r_loss: 40.2932 - vae_kl_loss: 5.1595\n",
      "\n",
      "Epoch 00024: saving model to run/vae/0002_digits/weights/weights-024-45.45.h5\n",
      "\n",
      "Epoch 00024: saving model to run/vae/0002_digits/weights/weights.h5\n",
      "Epoch 25/200\n",
      "60000/60000 [==============================] - 87s 1ms/step - loss: 45.3991 - vae_r_loss: 40.2228 - vae_kl_loss: 5.1763\n",
      "\n",
      "Epoch 00025: saving model to run/vae/0002_digits/weights/weights-025-45.40.h5\n",
      "\n",
      "Epoch 00025: saving model to run/vae/0002_digits/weights/weights.h5\n",
      "Epoch 26/200\n",
      "60000/60000 [==============================] - 87s 1ms/step - loss: 45.3531 - vae_r_loss: 40.1695 - vae_kl_loss: 5.1835\n",
      "\n",
      "Epoch 00026: saving model to run/vae/0002_digits/weights/weights-026-45.35.h5\n",
      "\n",
      "Epoch 00026: saving model to run/vae/0002_digits/weights/weights.h5\n",
      "Epoch 27/200\n",
      "60000/60000 [==============================] - 88s 1ms/step - loss: 45.3042 - vae_r_loss: 40.1089 - vae_kl_loss: 5.1953\n",
      "\n",
      "Epoch 00027: saving model to run/vae/0002_digits/weights/weights-027-45.30.h5\n",
      "\n",
      "Epoch 00027: saving model to run/vae/0002_digits/weights/weights.h5\n",
      "Epoch 28/200\n",
      "60000/60000 [==============================] - 88s 1ms/step - loss: 45.2625 - vae_r_loss: 40.0662 - vae_kl_loss: 5.1963\n",
      "\n",
      "Epoch 00028: saving model to run/vae/0002_digits/weights/weights-028-45.26.h5\n",
      "\n",
      "Epoch 00028: saving model to run/vae/0002_digits/weights/weights.h5\n",
      "Epoch 29/200\n"
     ]
    },
    {
     "name": "stdout",
     "output_type": "stream",
     "text": [
      "60000/60000 [==============================] - 87s 1ms/step - loss: 45.1611 - vae_r_loss: 39.9530 - vae_kl_loss: 5.2080\n",
      "\n",
      "Epoch 00029: saving model to run/vae/0002_digits/weights/weights-029-45.16.h5\n",
      "\n",
      "Epoch 00029: saving model to run/vae/0002_digits/weights/weights.h5\n",
      "Epoch 30/200\n",
      "60000/60000 [==============================] - 88s 1ms/step - loss: 45.1398 - vae_r_loss: 39.9143 - vae_kl_loss: 5.2255\n",
      "\n",
      "Epoch 00030: saving model to run/vae/0002_digits/weights/weights-030-45.14.h5\n",
      "\n",
      "Epoch 00030: saving model to run/vae/0002_digits/weights/weights.h5\n",
      "Epoch 31/200\n",
      "60000/60000 [==============================] - 88s 1ms/step - loss: 45.0593 - vae_r_loss: 39.8356 - vae_kl_loss: 5.2237\n",
      "\n",
      "Epoch 00031: saving model to run/vae/0002_digits/weights/weights-031-45.06.h5\n",
      "\n",
      "Epoch 00031: saving model to run/vae/0002_digits/weights/weights.h5\n",
      "Epoch 32/200\n",
      "60000/60000 [==============================] - 88s 1ms/step - loss: 45.0243 - vae_r_loss: 39.7914 - vae_kl_loss: 5.2329\n",
      "\n",
      "Epoch 00032: saving model to run/vae/0002_digits/weights/weights-032-45.02.h5\n",
      "\n",
      "Epoch 00032: saving model to run/vae/0002_digits/weights/weights.h5\n",
      "Epoch 33/200\n",
      "60000/60000 [==============================] - 87s 1ms/step - loss: 44.9781 - vae_r_loss: 39.7255 - vae_kl_loss: 5.2526\n",
      "\n",
      "Epoch 00033: saving model to run/vae/0002_digits/weights/weights-033-44.98.h5\n",
      "\n",
      "Epoch 00033: saving model to run/vae/0002_digits/weights/weights.h5\n",
      "Epoch 34/200\n",
      "60000/60000 [==============================] - 88s 1ms/step - loss: 44.9185 - vae_r_loss: 39.6624 - vae_kl_loss: 5.2561\n",
      "\n",
      "Epoch 00034: saving model to run/vae/0002_digits/weights/weights-034-44.92.h5\n",
      "\n",
      "Epoch 00034: saving model to run/vae/0002_digits/weights/weights.h5\n",
      "Epoch 35/200\n",
      "60000/60000 [==============================] - 88s 1ms/step - loss: 44.9167 - vae_r_loss: 39.6517 - vae_kl_loss: 5.2650\n",
      "\n",
      "Epoch 00035: saving model to run/vae/0002_digits/weights/weights-035-44.92.h5\n",
      "\n",
      "Epoch 00035: saving model to run/vae/0002_digits/weights/weights.h5\n",
      "Epoch 36/200\n",
      "60000/60000 [==============================] - 87s 1ms/step - loss: 44.8369 - vae_r_loss: 39.5735 - vae_kl_loss: 5.2634\n",
      "\n",
      "Epoch 00036: saving model to run/vae/0002_digits/weights/weights-036-44.84.h5\n",
      "\n",
      "Epoch 00036: saving model to run/vae/0002_digits/weights/weights.h5\n",
      "Epoch 37/200\n",
      "60000/60000 [==============================] - 89s 1ms/step - loss: 44.8293 - vae_r_loss: 39.5604 - vae_kl_loss: 5.2690\n",
      "\n",
      "Epoch 00037: saving model to run/vae/0002_digits/weights/weights-037-44.83.h5\n",
      "\n",
      "Epoch 00037: saving model to run/vae/0002_digits/weights/weights.h5\n",
      "Epoch 38/200\n",
      "23712/60000 [==========>...................] - ETA: 1:03 - loss: 44.6895 - vae_r_loss: 39.4158 - vae_kl_loss: 5.2737"
     ]
    },
    {
     "ename": "KeyboardInterrupt",
     "evalue": "",
     "output_type": "error",
     "traceback": [
      "\u001b[0;31m---------------------------------------------------------------------------\u001b[0m",
      "\u001b[0;31mKeyboardInterrupt\u001b[0m                         Traceback (most recent call last)",
      "\u001b[0;32m<ipython-input-11-a0cdb3ff19b5>\u001b[0m in \u001b[0;36m<module>\u001b[0;34m()\u001b[0m\n\u001b[1;32m      5\u001b[0m     \u001b[0;34m,\u001b[0m \u001b[0mrun_folder\u001b[0m \u001b[0;34m=\u001b[0m \u001b[0mRUN_FOLDER\u001b[0m\u001b[0;34m\u001b[0m\u001b[0m\n\u001b[1;32m      6\u001b[0m     \u001b[0;34m,\u001b[0m \u001b[0mprint_every_n_batches\u001b[0m \u001b[0;34m=\u001b[0m \u001b[0mPRINT_EVERY_N_BATCHES\u001b[0m\u001b[0;34m\u001b[0m\u001b[0m\n\u001b[0;32m----> 7\u001b[0;31m     \u001b[0;34m,\u001b[0m \u001b[0minitial_epoch\u001b[0m \u001b[0;34m=\u001b[0m \u001b[0mINITIAL_EPOCH\u001b[0m\u001b[0;34m\u001b[0m\u001b[0m\n\u001b[0m\u001b[1;32m      8\u001b[0m )\n",
      "\u001b[0;32m/Users/shivajidutta/DataScience/GenerativeDL/orielly_book/GDL_code/models/VAE.py\u001b[0m in \u001b[0;36mtrain\u001b[0;34m(self, x_train, batch_size, epochs, run_folder, print_every_n_batches, initial_epoch, lr_decay)\u001b[0m\n\u001b[1;32m    200\u001b[0m             \u001b[0;34m,\u001b[0m \u001b[0mepochs\u001b[0m \u001b[0;34m=\u001b[0m \u001b[0mepochs\u001b[0m\u001b[0;34m\u001b[0m\u001b[0m\n\u001b[1;32m    201\u001b[0m             \u001b[0;34m,\u001b[0m \u001b[0minitial_epoch\u001b[0m \u001b[0;34m=\u001b[0m \u001b[0minitial_epoch\u001b[0m\u001b[0;34m\u001b[0m\u001b[0m\n\u001b[0;32m--> 202\u001b[0;31m             \u001b[0;34m,\u001b[0m \u001b[0mcallbacks\u001b[0m \u001b[0;34m=\u001b[0m \u001b[0mcallbacks_list\u001b[0m\u001b[0;34m\u001b[0m\u001b[0m\n\u001b[0m\u001b[1;32m    203\u001b[0m         )\n\u001b[1;32m    204\u001b[0m \u001b[0;34m\u001b[0m\u001b[0m\n",
      "\u001b[0;32m/Users/shivajidutta/anaconda/lib/python2.7/site-packages/keras/engine/training.pyc\u001b[0m in \u001b[0;36mfit\u001b[0;34m(self, x, y, batch_size, epochs, verbose, callbacks, validation_split, validation_data, shuffle, class_weight, sample_weight, initial_epoch, steps_per_epoch, validation_steps, **kwargs)\u001b[0m\n\u001b[1;32m   1037\u001b[0m                                         \u001b[0minitial_epoch\u001b[0m\u001b[0;34m=\u001b[0m\u001b[0minitial_epoch\u001b[0m\u001b[0;34m,\u001b[0m\u001b[0;34m\u001b[0m\u001b[0m\n\u001b[1;32m   1038\u001b[0m                                         \u001b[0msteps_per_epoch\u001b[0m\u001b[0;34m=\u001b[0m\u001b[0msteps_per_epoch\u001b[0m\u001b[0;34m,\u001b[0m\u001b[0;34m\u001b[0m\u001b[0m\n\u001b[0;32m-> 1039\u001b[0;31m                                         validation_steps=validation_steps)\n\u001b[0m\u001b[1;32m   1040\u001b[0m \u001b[0;34m\u001b[0m\u001b[0m\n\u001b[1;32m   1041\u001b[0m     def evaluate(self, x=None, y=None,\n",
      "\u001b[0;32m/Users/shivajidutta/anaconda/lib/python2.7/site-packages/keras/engine/training_arrays.pyc\u001b[0m in \u001b[0;36mfit_loop\u001b[0;34m(model, f, ins, out_labels, batch_size, epochs, verbose, callbacks, val_f, val_ins, shuffle, callback_metrics, initial_epoch, steps_per_epoch, validation_steps)\u001b[0m\n\u001b[1;32m    197\u001b[0m                     \u001b[0mins_batch\u001b[0m\u001b[0;34m[\u001b[0m\u001b[0mi\u001b[0m\u001b[0;34m]\u001b[0m \u001b[0;34m=\u001b[0m \u001b[0mins_batch\u001b[0m\u001b[0;34m[\u001b[0m\u001b[0mi\u001b[0m\u001b[0;34m]\u001b[0m\u001b[0;34m.\u001b[0m\u001b[0mtoarray\u001b[0m\u001b[0;34m(\u001b[0m\u001b[0;34m)\u001b[0m\u001b[0;34m\u001b[0m\u001b[0m\n\u001b[1;32m    198\u001b[0m \u001b[0;34m\u001b[0m\u001b[0m\n\u001b[0;32m--> 199\u001b[0;31m                 \u001b[0mouts\u001b[0m \u001b[0;34m=\u001b[0m \u001b[0mf\u001b[0m\u001b[0;34m(\u001b[0m\u001b[0mins_batch\u001b[0m\u001b[0;34m)\u001b[0m\u001b[0;34m\u001b[0m\u001b[0m\n\u001b[0m\u001b[1;32m    200\u001b[0m                 \u001b[0mouts\u001b[0m \u001b[0;34m=\u001b[0m \u001b[0mto_list\u001b[0m\u001b[0;34m(\u001b[0m\u001b[0mouts\u001b[0m\u001b[0;34m)\u001b[0m\u001b[0;34m\u001b[0m\u001b[0m\n\u001b[1;32m    201\u001b[0m                 \u001b[0;32mfor\u001b[0m \u001b[0ml\u001b[0m\u001b[0;34m,\u001b[0m \u001b[0mo\u001b[0m \u001b[0;32min\u001b[0m \u001b[0mzip\u001b[0m\u001b[0;34m(\u001b[0m\u001b[0mout_labels\u001b[0m\u001b[0;34m,\u001b[0m \u001b[0mouts\u001b[0m\u001b[0;34m)\u001b[0m\u001b[0;34m:\u001b[0m\u001b[0;34m\u001b[0m\u001b[0m\n",
      "\u001b[0;32m/Users/shivajidutta/anaconda/lib/python2.7/site-packages/keras/backend/tensorflow_backend.pyc\u001b[0m in \u001b[0;36m__call__\u001b[0;34m(self, inputs)\u001b[0m\n\u001b[1;32m   2713\u001b[0m                 \u001b[0;32mreturn\u001b[0m \u001b[0mself\u001b[0m\u001b[0;34m.\u001b[0m\u001b[0m_legacy_call\u001b[0m\u001b[0;34m(\u001b[0m\u001b[0minputs\u001b[0m\u001b[0;34m)\u001b[0m\u001b[0;34m\u001b[0m\u001b[0m\n\u001b[1;32m   2714\u001b[0m \u001b[0;34m\u001b[0m\u001b[0m\n\u001b[0;32m-> 2715\u001b[0;31m             \u001b[0;32mreturn\u001b[0m \u001b[0mself\u001b[0m\u001b[0;34m.\u001b[0m\u001b[0m_call\u001b[0m\u001b[0;34m(\u001b[0m\u001b[0minputs\u001b[0m\u001b[0;34m)\u001b[0m\u001b[0;34m\u001b[0m\u001b[0m\n\u001b[0m\u001b[1;32m   2716\u001b[0m         \u001b[0;32melse\u001b[0m\u001b[0;34m:\u001b[0m\u001b[0;34m\u001b[0m\u001b[0m\n\u001b[1;32m   2717\u001b[0m             \u001b[0;32mif\u001b[0m \u001b[0mpy_any\u001b[0m\u001b[0;34m(\u001b[0m\u001b[0mis_tensor\u001b[0m\u001b[0;34m(\u001b[0m\u001b[0mx\u001b[0m\u001b[0;34m)\u001b[0m \u001b[0;32mfor\u001b[0m \u001b[0mx\u001b[0m \u001b[0;32min\u001b[0m \u001b[0minputs\u001b[0m\u001b[0;34m)\u001b[0m\u001b[0;34m:\u001b[0m\u001b[0;34m\u001b[0m\u001b[0m\n",
      "\u001b[0;32m/Users/shivajidutta/anaconda/lib/python2.7/site-packages/keras/backend/tensorflow_backend.pyc\u001b[0m in \u001b[0;36m_call\u001b[0;34m(self, inputs)\u001b[0m\n\u001b[1;32m   2673\u001b[0m             \u001b[0mfetched\u001b[0m \u001b[0;34m=\u001b[0m \u001b[0mself\u001b[0m\u001b[0;34m.\u001b[0m\u001b[0m_callable_fn\u001b[0m\u001b[0;34m(\u001b[0m\u001b[0;34m*\u001b[0m\u001b[0marray_vals\u001b[0m\u001b[0;34m,\u001b[0m \u001b[0mrun_metadata\u001b[0m\u001b[0;34m=\u001b[0m\u001b[0mself\u001b[0m\u001b[0;34m.\u001b[0m\u001b[0mrun_metadata\u001b[0m\u001b[0;34m)\u001b[0m\u001b[0;34m\u001b[0m\u001b[0m\n\u001b[1;32m   2674\u001b[0m         \u001b[0;32melse\u001b[0m\u001b[0;34m:\u001b[0m\u001b[0;34m\u001b[0m\u001b[0m\n\u001b[0;32m-> 2675\u001b[0;31m             \u001b[0mfetched\u001b[0m \u001b[0;34m=\u001b[0m \u001b[0mself\u001b[0m\u001b[0;34m.\u001b[0m\u001b[0m_callable_fn\u001b[0m\u001b[0;34m(\u001b[0m\u001b[0;34m*\u001b[0m\u001b[0marray_vals\u001b[0m\u001b[0;34m)\u001b[0m\u001b[0;34m\u001b[0m\u001b[0m\n\u001b[0m\u001b[1;32m   2676\u001b[0m         \u001b[0;32mreturn\u001b[0m \u001b[0mfetched\u001b[0m\u001b[0;34m[\u001b[0m\u001b[0;34m:\u001b[0m\u001b[0mlen\u001b[0m\u001b[0;34m(\u001b[0m\u001b[0mself\u001b[0m\u001b[0;34m.\u001b[0m\u001b[0moutputs\u001b[0m\u001b[0;34m)\u001b[0m\u001b[0;34m]\u001b[0m\u001b[0;34m\u001b[0m\u001b[0m\n\u001b[1;32m   2677\u001b[0m \u001b[0;34m\u001b[0m\u001b[0m\n",
      "\u001b[0;32m/Users/shivajidutta/anaconda/lib/python2.7/site-packages/tensorflow/python/client/session.pyc\u001b[0m in \u001b[0;36m__call__\u001b[0;34m(self, *args, **kwargs)\u001b[0m\n\u001b[1;32m   1437\u001b[0m           ret = tf_session.TF_SessionRunCallable(\n\u001b[1;32m   1438\u001b[0m               \u001b[0mself\u001b[0m\u001b[0;34m.\u001b[0m\u001b[0m_session\u001b[0m\u001b[0;34m.\u001b[0m\u001b[0m_session\u001b[0m\u001b[0;34m,\u001b[0m \u001b[0mself\u001b[0m\u001b[0;34m.\u001b[0m\u001b[0m_handle\u001b[0m\u001b[0;34m,\u001b[0m \u001b[0margs\u001b[0m\u001b[0;34m,\u001b[0m \u001b[0mstatus\u001b[0m\u001b[0;34m,\u001b[0m\u001b[0;34m\u001b[0m\u001b[0m\n\u001b[0;32m-> 1439\u001b[0;31m               run_metadata_ptr)\n\u001b[0m\u001b[1;32m   1440\u001b[0m         \u001b[0;32mif\u001b[0m \u001b[0mrun_metadata\u001b[0m\u001b[0;34m:\u001b[0m\u001b[0;34m\u001b[0m\u001b[0m\n\u001b[1;32m   1441\u001b[0m           \u001b[0mproto_data\u001b[0m \u001b[0;34m=\u001b[0m \u001b[0mtf_session\u001b[0m\u001b[0;34m.\u001b[0m\u001b[0mTF_GetBuffer\u001b[0m\u001b[0;34m(\u001b[0m\u001b[0mrun_metadata_ptr\u001b[0m\u001b[0;34m)\u001b[0m\u001b[0;34m\u001b[0m\u001b[0m\n",
      "\u001b[0;31mKeyboardInterrupt\u001b[0m: "
     ]
    }
   ],
   "source": [
    "vae.train(     \n",
    "    x_train\n",
    "    , batch_size = BATCH_SIZE\n",
    "    , epochs = EPOCHS\n",
    "    , run_folder = RUN_FOLDER\n",
    "    , print_every_n_batches = PRINT_EVERY_N_BATCHES\n",
    "    , initial_epoch = INITIAL_EPOCH\n",
    ")"
   ]
  },
  {
   "cell_type": "code",
   "execution_count": null,
   "metadata": {},
   "outputs": [],
   "source": []
  }
 ],
 "metadata": {
  "anaconda-cloud": {},
  "kernelspec": {
   "display_name": "Python 3",
   "language": "python",
   "name": "python3"
  },
  "language_info": {
   "codemirror_mode": {
    "name": "ipython",
    "version": 2
   },
   "file_extension": ".py",
   "mimetype": "text/x-python",
   "name": "python",
   "nbconvert_exporter": "python",
   "pygments_lexer": "ipython2",
   "version": "2.7.12"
  }
 },
 "nbformat": 4,
 "nbformat_minor": 2
}
